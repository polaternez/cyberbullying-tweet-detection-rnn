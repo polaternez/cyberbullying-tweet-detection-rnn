{
 "cells": [
  {
   "cell_type": "markdown",
   "metadata": {
    "id": "freIscgt1__C"
   },
   "source": [
    "# Setup"
   ]
  },
  {
   "cell_type": "code",
   "execution_count": 4,
   "metadata": {
    "executionInfo": {
     "elapsed": 5846,
     "status": "ok",
     "timestamp": 1671563638647,
     "user": {
      "displayName": "Savaş Demiradalı",
      "userId": "09028353773699495497"
     },
     "user_tz": -180
    },
    "id": "CBC0XRTBXg9x"
   },
   "outputs": [],
   "source": [
    "import numpy as np\n",
    "import pandas as pd\n",
    "pd.set_option(\"display.max_colwidth\", None)\n",
    "\n",
    "import matplotlib.pyplot as plt\n",
    "import seaborn as sns\n",
    "sns.set(style=\"darkgrid\", font_scale=1.2)\n",
    "\n",
    "%matplotlib inline\n",
    "\n",
    "import tensorflow as tf\n",
    "from tensorflow import keras\n",
    "from tensorflow.keras import layers\n",
    "from tensorflow.keras.preprocessing.text import one_hot\n",
    "from tensorflow.keras.preprocessing.sequence import pad_sequences\n",
    "\n",
    "from keras.models import load_model\n",
    "from sklearn import metrics\n",
    "from sklearn.metrics import classification_report, confusion_matrix"
   ]
  },
  {
   "cell_type": "code",
   "execution_count": 5,
   "metadata": {
    "executionInfo": {
     "elapsed": 15,
     "status": "ok",
     "timestamp": 1671563638650,
     "user": {
      "displayName": "Savaş Demiradalı",
      "userId": "09028353773699495497"
     },
     "user_tz": -180
    },
    "id": "PBqNQiESpT-J"
   },
   "outputs": [],
   "source": [
    "VOCAB_SIZE = 50000  # vocabulary size\n",
    "MAX_LEN = 200"
   ]
  },
  {
   "cell_type": "markdown",
   "metadata": {
    "id": "c_NaWbAJ9T0P"
   },
   "source": [
    "# Load data"
   ]
  },
  {
   "cell_type": "code",
   "execution_count": 6,
   "metadata": {
    "colab": {
     "base_uri": "https://localhost:8080/",
     "height": 502
    },
    "executionInfo": {
     "elapsed": 569,
     "status": "ok",
     "timestamp": 1671563639205,
     "user": {
      "displayName": "Savaş Demiradalı",
      "userId": "09028353773699495497"
     },
     "user_tz": -180
    },
    "id": "_erip2I7XkBs",
    "outputId": "4f4f8ba2-0047-47b1-86c0-f2c59d6ba3d9"
   },
   "outputs": [
    {
     "data": {
      "text/html": [
       "\n",
       "  <div id=\"df-df1281b4-101d-4f9d-a51f-2b7e5d7aaf97\">\n",
       "    <div class=\"colab-df-container\">\n",
       "      <div>\n",
       "<style scoped>\n",
       "    .dataframe tbody tr th:only-of-type {\n",
       "        vertical-align: middle;\n",
       "    }\n",
       "\n",
       "    .dataframe tbody tr th {\n",
       "        vertical-align: top;\n",
       "    }\n",
       "\n",
       "    .dataframe thead th {\n",
       "        text-align: right;\n",
       "    }\n",
       "</style>\n",
       "<table border=\"1\" class=\"dataframe\">\n",
       "  <thead>\n",
       "    <tr style=\"text-align: right;\">\n",
       "      <th></th>\n",
       "      <th>clean_text</th>\n",
       "      <th>cyberbullying_type</th>\n",
       "    </tr>\n",
       "  </thead>\n",
       "  <tbody>\n",
       "    <tr>\n",
       "      <th>0</th>\n",
       "      <td>word #katandandre food crapilicious #mkr</td>\n",
       "      <td>not_cyberbullying</td>\n",
       "    </tr>\n",
       "    <tr>\n",
       "      <th>1</th>\n",
       "      <td>#aussietv white #mkr #theblock #imacelebrityau #today #sunrise #studio #neighbours #wonderlandten #etc</td>\n",
       "      <td>not_cyberbullying</td>\n",
       "    </tr>\n",
       "    <tr>\n",
       "      <th>2</th>\n",
       "      <td>classy whore red velvet cupcake</td>\n",
       "      <td>not_cyberbullying</td>\n",
       "    </tr>\n",
       "    <tr>\n",
       "      <th>3</th>\n",
       "      <td>meh p thanks head concerned another angry dude twitter</td>\n",
       "      <td>not_cyberbullying</td>\n",
       "    </tr>\n",
       "    <tr>\n",
       "      <th>4</th>\n",
       "      <td>isi account pretending kurdish account like islam lie</td>\n",
       "      <td>not_cyberbullying</td>\n",
       "    </tr>\n",
       "    <tr>\n",
       "      <th>...</th>\n",
       "      <td>...</td>\n",
       "      <td>...</td>\n",
       "    </tr>\n",
       "    <tr>\n",
       "      <th>47687</th>\n",
       "      <td>black ppl expected anything depended anything yet free participate work enjoy freedom human across globe waste energy past wasting building future</td>\n",
       "      <td>ethnicity</td>\n",
       "    </tr>\n",
       "    <tr>\n",
       "      <th>47688</th>\n",
       "      <td>turner withhold disappointment turner called court abominable conclave negro hating demon one exception issued another decree colored men woman must driven jim crow car whenever suit whim white community</td>\n",
       "      <td>ethnicity</td>\n",
       "    </tr>\n",
       "    <tr>\n",
       "      <th>47689</th>\n",
       "      <td>swear god dumb nigger bitch got bleach hair reeeeeal fuckin soon fuck</td>\n",
       "      <td>ethnicity</td>\n",
       "    </tr>\n",
       "    <tr>\n",
       "      <th>47690</th>\n",
       "      <td>yea fuck rt youre nigger fucking unfollow fucking dumb nigger</td>\n",
       "      <td>ethnicity</td>\n",
       "    </tr>\n",
       "    <tr>\n",
       "      <th>47691</th>\n",
       "      <td>bro u gotta chill rt dog fuck kp dumb nigger bitch lmao</td>\n",
       "      <td>ethnicity</td>\n",
       "    </tr>\n",
       "  </tbody>\n",
       "</table>\n",
       "<p>47692 rows × 2 columns</p>\n",
       "</div>\n",
       "      <button class=\"colab-df-convert\" onclick=\"convertToInteractive('df-df1281b4-101d-4f9d-a51f-2b7e5d7aaf97')\"\n",
       "              title=\"Convert this dataframe to an interactive table.\"\n",
       "              style=\"display:none;\">\n",
       "        \n",
       "  <svg xmlns=\"http://www.w3.org/2000/svg\" height=\"24px\"viewBox=\"0 0 24 24\"\n",
       "       width=\"24px\">\n",
       "    <path d=\"M0 0h24v24H0V0z\" fill=\"none\"/>\n",
       "    <path d=\"M18.56 5.44l.94 2.06.94-2.06 2.06-.94-2.06-.94-.94-2.06-.94 2.06-2.06.94zm-11 1L8.5 8.5l.94-2.06 2.06-.94-2.06-.94L8.5 2.5l-.94 2.06-2.06.94zm10 10l.94 2.06.94-2.06 2.06-.94-2.06-.94-.94-2.06-.94 2.06-2.06.94z\"/><path d=\"M17.41 7.96l-1.37-1.37c-.4-.4-.92-.59-1.43-.59-.52 0-1.04.2-1.43.59L10.3 9.45l-7.72 7.72c-.78.78-.78 2.05 0 2.83L4 21.41c.39.39.9.59 1.41.59.51 0 1.02-.2 1.41-.59l7.78-7.78 2.81-2.81c.8-.78.8-2.07 0-2.86zM5.41 20L4 18.59l7.72-7.72 1.47 1.35L5.41 20z\"/>\n",
       "  </svg>\n",
       "      </button>\n",
       "      \n",
       "  <style>\n",
       "    .colab-df-container {\n",
       "      display:flex;\n",
       "      flex-wrap:wrap;\n",
       "      gap: 12px;\n",
       "    }\n",
       "\n",
       "    .colab-df-convert {\n",
       "      background-color: #E8F0FE;\n",
       "      border: none;\n",
       "      border-radius: 50%;\n",
       "      cursor: pointer;\n",
       "      display: none;\n",
       "      fill: #1967D2;\n",
       "      height: 32px;\n",
       "      padding: 0 0 0 0;\n",
       "      width: 32px;\n",
       "    }\n",
       "\n",
       "    .colab-df-convert:hover {\n",
       "      background-color: #E2EBFA;\n",
       "      box-shadow: 0px 1px 2px rgba(60, 64, 67, 0.3), 0px 1px 3px 1px rgba(60, 64, 67, 0.15);\n",
       "      fill: #174EA6;\n",
       "    }\n",
       "\n",
       "    [theme=dark] .colab-df-convert {\n",
       "      background-color: #3B4455;\n",
       "      fill: #D2E3FC;\n",
       "    }\n",
       "\n",
       "    [theme=dark] .colab-df-convert:hover {\n",
       "      background-color: #434B5C;\n",
       "      box-shadow: 0px 1px 3px 1px rgba(0, 0, 0, 0.15);\n",
       "      filter: drop-shadow(0px 1px 2px rgba(0, 0, 0, 0.3));\n",
       "      fill: #FFFFFF;\n",
       "    }\n",
       "  </style>\n",
       "\n",
       "      <script>\n",
       "        const buttonEl =\n",
       "          document.querySelector('#df-df1281b4-101d-4f9d-a51f-2b7e5d7aaf97 button.colab-df-convert');\n",
       "        buttonEl.style.display =\n",
       "          google.colab.kernel.accessAllowed ? 'block' : 'none';\n",
       "\n",
       "        async function convertToInteractive(key) {\n",
       "          const element = document.querySelector('#df-df1281b4-101d-4f9d-a51f-2b7e5d7aaf97');\n",
       "          const dataTable =\n",
       "            await google.colab.kernel.invokeFunction('convertToInteractive',\n",
       "                                                     [key], {});\n",
       "          if (!dataTable) return;\n",
       "\n",
       "          const docLinkHtml = 'Like what you see? Visit the ' +\n",
       "            '<a target=\"_blank\" href=https://colab.research.google.com/notebooks/data_table.ipynb>data table notebook</a>'\n",
       "            + ' to learn more about interactive tables.';\n",
       "          element.innerHTML = '';\n",
       "          dataTable['output_type'] = 'display_data';\n",
       "          await google.colab.output.renderOutput(dataTable, element);\n",
       "          const docLink = document.createElement('div');\n",
       "          docLink.innerHTML = docLinkHtml;\n",
       "          element.appendChild(docLink);\n",
       "        }\n",
       "      </script>\n",
       "    </div>\n",
       "  </div>\n",
       "  "
      ],
      "text/plain": [
       "                                                                                                                                                                                                        clean_text  \\\n",
       "0                                                                                                                                                                         word #katandandre food crapilicious #mkr   \n",
       "1                                                                                                           #aussietv white #mkr #theblock #imacelebrityau #today #sunrise #studio #neighbours #wonderlandten #etc   \n",
       "2                                                                                                                                                                                  classy whore red velvet cupcake   \n",
       "3                                                                                                                                                           meh p thanks head concerned another angry dude twitter   \n",
       "4                                                                                                                                                            isi account pretending kurdish account like islam lie   \n",
       "...                                                                                                                                                                                                            ...   \n",
       "47687                                                           black ppl expected anything depended anything yet free participate work enjoy freedom human across globe waste energy past wasting building future   \n",
       "47688  turner withhold disappointment turner called court abominable conclave negro hating demon one exception issued another decree colored men woman must driven jim crow car whenever suit whim white community   \n",
       "47689                                                                                                                                        swear god dumb nigger bitch got bleach hair reeeeeal fuckin soon fuck   \n",
       "47690                                                                                                                                                yea fuck rt youre nigger fucking unfollow fucking dumb nigger   \n",
       "47691                                                                                                                                                      bro u gotta chill rt dog fuck kp dumb nigger bitch lmao   \n",
       "\n",
       "      cyberbullying_type  \n",
       "0      not_cyberbullying  \n",
       "1      not_cyberbullying  \n",
       "2      not_cyberbullying  \n",
       "3      not_cyberbullying  \n",
       "4      not_cyberbullying  \n",
       "...                  ...  \n",
       "47687          ethnicity  \n",
       "47688          ethnicity  \n",
       "47689          ethnicity  \n",
       "47690          ethnicity  \n",
       "47691          ethnicity  \n",
       "\n",
       "[47692 rows x 2 columns]"
      ]
     },
     "execution_count": 6,
     "metadata": {},
     "output_type": "execute_result"
    }
   ],
   "source": [
    "cleaned_tweets_df = pd.read_csv(\"./cleaned_tweets.csv\")\n",
    "cleaned_tweets_df"
   ]
  },
  {
   "cell_type": "code",
   "execution_count": 7,
   "metadata": {
    "colab": {
     "base_uri": "https://localhost:8080/"
    },
    "executionInfo": {
     "elapsed": 16,
     "status": "ok",
     "timestamp": 1671563639206,
     "user": {
      "displayName": "Savaş Demiradalı",
      "userId": "09028353773699495497"
     },
     "user_tz": -180
    },
    "id": "melRSFkF1dRj",
    "outputId": "3dcb300a-4832-44e5-9e5c-55e1771944f4"
   },
   "outputs": [
    {
     "name": "stdout",
     "output_type": "stream",
     "text": [
      "<class 'pandas.core.frame.DataFrame'>\n",
      "RangeIndex: 47692 entries, 0 to 47691\n",
      "Data columns (total 2 columns):\n",
      " #   Column              Non-Null Count  Dtype \n",
      "---  ------              --------------  ----- \n",
      " 0   clean_text          47304 non-null  object\n",
      " 1   cyberbullying_type  47692 non-null  object\n",
      "dtypes: object(2)\n",
      "memory usage: 745.3+ KB\n"
     ]
    }
   ],
   "source": [
    "cleaned_tweets_df.info()"
   ]
  },
  {
   "cell_type": "code",
   "execution_count": 8,
   "metadata": {
    "colab": {
     "base_uri": "https://localhost:8080/"
    },
    "executionInfo": {
     "elapsed": 14,
     "status": "ok",
     "timestamp": 1671563639207,
     "user": {
      "displayName": "Savaş Demiradalı",
      "userId": "09028353773699495497"
     },
     "user_tz": -180
    },
    "id": "YjTPSZWGWSwV",
    "outputId": "02878341-1eeb-412e-f8a5-8056c7293b7b"
   },
   "outputs": [
    {
     "data": {
      "text/plain": [
       "clean_text            388\n",
       "cyberbullying_type      0\n",
       "dtype: int64"
      ]
     },
     "execution_count": 8,
     "metadata": {},
     "output_type": "execute_result"
    }
   ],
   "source": [
    "cleaned_tweets_df.isnull().sum()"
   ]
  },
  {
   "cell_type": "code",
   "execution_count": 9,
   "metadata": {
    "executionInfo": {
     "elapsed": 9,
     "status": "ok",
     "timestamp": 1671563639207,
     "user": {
      "displayName": "Savaş Demiradalı",
      "userId": "09028353773699495497"
     },
     "user_tz": -180
    },
    "id": "7de7JhwNEN-A"
   },
   "outputs": [],
   "source": [
    "# Drop null values\n",
    "cleaned_tweets_df.dropna(inplace=True)\n",
    "cleaned_tweets_df.reset_index(drop=True, inplace=True)"
   ]
  },
  {
   "cell_type": "markdown",
   "metadata": {
    "id": "MKaBNObn2aHT"
   },
   "source": [
    "# Data preprocessing"
   ]
  },
  {
   "cell_type": "code",
   "execution_count": 10,
   "metadata": {
    "executionInfo": {
     "elapsed": 2269,
     "status": "ok",
     "timestamp": 1671563641468,
     "user": {
      "displayName": "Savaş Demiradalı",
      "userId": "09028353773699495497"
     },
     "user_tz": -180
    },
    "id": "MvGVF82kVRM_"
   },
   "outputs": [],
   "source": [
    "# one hot encoding\n",
    "cleaned_tweets_df[\"tweet_ohe\"] = cleaned_tweets_df[\"clean_text\"].apply(lambda x: one_hot(x, VOCAB_SIZE))"
   ]
  },
  {
   "cell_type": "code",
   "execution_count": 11,
   "metadata": {
    "colab": {
     "base_uri": "https://localhost:8080/",
     "height": 267
    },
    "executionInfo": {
     "elapsed": 24,
     "status": "ok",
     "timestamp": 1671563641470,
     "user": {
      "displayName": "Savaş Demiradalı",
      "userId": "09028353773699495497"
     },
     "user_tz": -180
    },
    "id": "QuTM717sXurY",
    "outputId": "383d5214-9a56-4a73-d0f4-26c2735c44b8"
   },
   "outputs": [
    {
     "data": {
      "text/html": [
       "\n",
       "  <div id=\"df-237a3dfe-68e2-49ef-8e62-ddfb4bca08b3\">\n",
       "    <div class=\"colab-df-container\">\n",
       "      <div>\n",
       "<style scoped>\n",
       "    .dataframe tbody tr th:only-of-type {\n",
       "        vertical-align: middle;\n",
       "    }\n",
       "\n",
       "    .dataframe tbody tr th {\n",
       "        vertical-align: top;\n",
       "    }\n",
       "\n",
       "    .dataframe thead th {\n",
       "        text-align: right;\n",
       "    }\n",
       "</style>\n",
       "<table border=\"1\" class=\"dataframe\">\n",
       "  <thead>\n",
       "    <tr style=\"text-align: right;\">\n",
       "      <th></th>\n",
       "      <th>clean_text</th>\n",
       "      <th>tweet_ohe</th>\n",
       "    </tr>\n",
       "  </thead>\n",
       "  <tbody>\n",
       "    <tr>\n",
       "      <th>0</th>\n",
       "      <td>word #katandandre food crapilicious #mkr</td>\n",
       "      <td>[32064, 1748, 16818, 43602, 15197]</td>\n",
       "    </tr>\n",
       "    <tr>\n",
       "      <th>1</th>\n",
       "      <td>#aussietv white #mkr #theblock #imacelebrityau #today #sunrise #studio #neighbours #wonderlandten #etc</td>\n",
       "      <td>[7227, 15925, 15197, 9737, 33978, 42594, 19094, 27980, 20169, 24472, 21595]</td>\n",
       "    </tr>\n",
       "    <tr>\n",
       "      <th>2</th>\n",
       "      <td>classy whore red velvet cupcake</td>\n",
       "      <td>[18747, 12443, 40645, 32394, 29336]</td>\n",
       "    </tr>\n",
       "    <tr>\n",
       "      <th>3</th>\n",
       "      <td>meh p thanks head concerned another angry dude twitter</td>\n",
       "      <td>[19959, 29031, 16614, 6347, 28210, 3440, 2298, 46355, 42851]</td>\n",
       "    </tr>\n",
       "    <tr>\n",
       "      <th>4</th>\n",
       "      <td>isi account pretending kurdish account like islam lie</td>\n",
       "      <td>[8971, 37098, 32170, 31313, 37098, 1353, 25542, 1827]</td>\n",
       "    </tr>\n",
       "  </tbody>\n",
       "</table>\n",
       "</div>\n",
       "      <button class=\"colab-df-convert\" onclick=\"convertToInteractive('df-237a3dfe-68e2-49ef-8e62-ddfb4bca08b3')\"\n",
       "              title=\"Convert this dataframe to an interactive table.\"\n",
       "              style=\"display:none;\">\n",
       "        \n",
       "  <svg xmlns=\"http://www.w3.org/2000/svg\" height=\"24px\"viewBox=\"0 0 24 24\"\n",
       "       width=\"24px\">\n",
       "    <path d=\"M0 0h24v24H0V0z\" fill=\"none\"/>\n",
       "    <path d=\"M18.56 5.44l.94 2.06.94-2.06 2.06-.94-2.06-.94-.94-2.06-.94 2.06-2.06.94zm-11 1L8.5 8.5l.94-2.06 2.06-.94-2.06-.94L8.5 2.5l-.94 2.06-2.06.94zm10 10l.94 2.06.94-2.06 2.06-.94-2.06-.94-.94-2.06-.94 2.06-2.06.94z\"/><path d=\"M17.41 7.96l-1.37-1.37c-.4-.4-.92-.59-1.43-.59-.52 0-1.04.2-1.43.59L10.3 9.45l-7.72 7.72c-.78.78-.78 2.05 0 2.83L4 21.41c.39.39.9.59 1.41.59.51 0 1.02-.2 1.41-.59l7.78-7.78 2.81-2.81c.8-.78.8-2.07 0-2.86zM5.41 20L4 18.59l7.72-7.72 1.47 1.35L5.41 20z\"/>\n",
       "  </svg>\n",
       "      </button>\n",
       "      \n",
       "  <style>\n",
       "    .colab-df-container {\n",
       "      display:flex;\n",
       "      flex-wrap:wrap;\n",
       "      gap: 12px;\n",
       "    }\n",
       "\n",
       "    .colab-df-convert {\n",
       "      background-color: #E8F0FE;\n",
       "      border: none;\n",
       "      border-radius: 50%;\n",
       "      cursor: pointer;\n",
       "      display: none;\n",
       "      fill: #1967D2;\n",
       "      height: 32px;\n",
       "      padding: 0 0 0 0;\n",
       "      width: 32px;\n",
       "    }\n",
       "\n",
       "    .colab-df-convert:hover {\n",
       "      background-color: #E2EBFA;\n",
       "      box-shadow: 0px 1px 2px rgba(60, 64, 67, 0.3), 0px 1px 3px 1px rgba(60, 64, 67, 0.15);\n",
       "      fill: #174EA6;\n",
       "    }\n",
       "\n",
       "    [theme=dark] .colab-df-convert {\n",
       "      background-color: #3B4455;\n",
       "      fill: #D2E3FC;\n",
       "    }\n",
       "\n",
       "    [theme=dark] .colab-df-convert:hover {\n",
       "      background-color: #434B5C;\n",
       "      box-shadow: 0px 1px 3px 1px rgba(0, 0, 0, 0.15);\n",
       "      filter: drop-shadow(0px 1px 2px rgba(0, 0, 0, 0.3));\n",
       "      fill: #FFFFFF;\n",
       "    }\n",
       "  </style>\n",
       "\n",
       "      <script>\n",
       "        const buttonEl =\n",
       "          document.querySelector('#df-237a3dfe-68e2-49ef-8e62-ddfb4bca08b3 button.colab-df-convert');\n",
       "        buttonEl.style.display =\n",
       "          google.colab.kernel.accessAllowed ? 'block' : 'none';\n",
       "\n",
       "        async function convertToInteractive(key) {\n",
       "          const element = document.querySelector('#df-237a3dfe-68e2-49ef-8e62-ddfb4bca08b3');\n",
       "          const dataTable =\n",
       "            await google.colab.kernel.invokeFunction('convertToInteractive',\n",
       "                                                     [key], {});\n",
       "          if (!dataTable) return;\n",
       "\n",
       "          const docLinkHtml = 'Like what you see? Visit the ' +\n",
       "            '<a target=\"_blank\" href=https://colab.research.google.com/notebooks/data_table.ipynb>data table notebook</a>'\n",
       "            + ' to learn more about interactive tables.';\n",
       "          element.innerHTML = '';\n",
       "          dataTable['output_type'] = 'display_data';\n",
       "          await google.colab.output.renderOutput(dataTable, element);\n",
       "          const docLink = document.createElement('div');\n",
       "          docLink.innerHTML = docLinkHtml;\n",
       "          element.appendChild(docLink);\n",
       "        }\n",
       "      </script>\n",
       "    </div>\n",
       "  </div>\n",
       "  "
      ],
      "text/plain": [
       "                                                                                               clean_text  \\\n",
       "0                                                                word #katandandre food crapilicious #mkr   \n",
       "1  #aussietv white #mkr #theblock #imacelebrityau #today #sunrise #studio #neighbours #wonderlandten #etc   \n",
       "2                                                                         classy whore red velvet cupcake   \n",
       "3                                                  meh p thanks head concerned another angry dude twitter   \n",
       "4                                                   isi account pretending kurdish account like islam lie   \n",
       "\n",
       "                                                                     tweet_ohe  \n",
       "0                                           [32064, 1748, 16818, 43602, 15197]  \n",
       "1  [7227, 15925, 15197, 9737, 33978, 42594, 19094, 27980, 20169, 24472, 21595]  \n",
       "2                                          [18747, 12443, 40645, 32394, 29336]  \n",
       "3                 [19959, 29031, 16614, 6347, 28210, 3440, 2298, 46355, 42851]  \n",
       "4                        [8971, 37098, 32170, 31313, 37098, 1353, 25542, 1827]  "
      ]
     },
     "execution_count": 11,
     "metadata": {},
     "output_type": "execute_result"
    }
   ],
   "source": [
    "cleaned_tweets_df[['clean_text', 'tweet_ohe']].head()"
   ]
  },
  {
   "cell_type": "code",
   "execution_count": 12,
   "metadata": {
    "executionInfo": {
     "elapsed": 23,
     "status": "ok",
     "timestamp": 1671563641473,
     "user": {
      "displayName": "Savaş Demiradalı",
      "userId": "09028353773699495497"
     },
     "user_tz": -180
    },
    "id": "bpClaVWxe0ta"
   },
   "outputs": [],
   "source": [
    "# Encode 'cyberbullying_type' column\n",
    "cyberbullying_type_dict = {'not_cyberbullying': 0, 'gender': 1, 'religion': 2, 'other_cyberbullying': 3, 'age': 4, 'ethnicity': 5}\n",
    "cleaned_tweets_df[\"cyberbullying_type\"] = cleaned_tweets_df[\"cyberbullying_type\"].map(cyberbullying_type_dict)"
   ]
  },
  {
   "cell_type": "markdown",
   "metadata": {
    "id": "4z2qrcWxbl5A"
   },
   "source": [
    "## train-test split"
   ]
  },
  {
   "cell_type": "code",
   "execution_count": 13,
   "metadata": {
    "executionInfo": {
     "elapsed": 25,
     "status": "ok",
     "timestamp": 1671563641476,
     "user": {
      "displayName": "Savaş Demiradalı",
      "userId": "09028353773699495497"
     },
     "user_tz": -180
    },
    "id": "B-h311oyYQ2b"
   },
   "outputs": [],
   "source": [
    "X = cleaned_tweets_df[\"tweet_ohe\"].values\n",
    "y = cleaned_tweets_df[\"cyberbullying_type\"].values"
   ]
  },
  {
   "cell_type": "code",
   "execution_count": 14,
   "metadata": {
    "colab": {
     "base_uri": "https://localhost:8080/"
    },
    "executionInfo": {
     "elapsed": 25,
     "status": "ok",
     "timestamp": 1671563641477,
     "user": {
      "displayName": "Savaş Demiradalı",
      "userId": "09028353773699495497"
     },
     "user_tz": -180
    },
    "id": "AADA0wsG8Zvg",
    "outputId": "a06f9b28-d301-4914-b6ca-7c309b7119d3"
   },
   "outputs": [
    {
     "name": "stdout",
     "output_type": "stream",
     "text": [
      "(37843,) (9461,)\n"
     ]
    }
   ],
   "source": [
    "from sklearn.model_selection import train_test_split\n",
    "\n",
    "X_train, X_test, y_train, y_test = train_test_split(X, y, test_size=0.2, random_state=42)\n",
    "\n",
    "print(X_train.shape, X_test.shape)"
   ]
  },
  {
   "cell_type": "code",
   "execution_count": 15,
   "metadata": {
    "colab": {
     "base_uri": "https://localhost:8080/"
    },
    "executionInfo": {
     "elapsed": 372,
     "status": "ok",
     "timestamp": 1671563641828,
     "user": {
      "displayName": "Savaş Demiradalı",
      "userId": "09028353773699495497"
     },
     "user_tz": -180
    },
    "id": "u5XfG-ZQYf5W",
    "outputId": "e7c834da-da29-4a28-c170-d6f86f1cd0d3"
   },
   "outputs": [
    {
     "name": "stdout",
     "output_type": "stream",
     "text": [
      "(37843, 200) (9461, 200)\n"
     ]
    }
   ],
   "source": [
    "# pad_sequences\n",
    "X_train = pad_sequences(X_train, MAX_LEN)\n",
    "X_test = pad_sequences(X_test, MAX_LEN)\n",
    "\n",
    "print(X_train.shape, X_test.shape)"
   ]
  },
  {
   "cell_type": "code",
   "execution_count": 16,
   "metadata": {
    "colab": {
     "base_uri": "https://localhost:8080/"
    },
    "executionInfo": {
     "elapsed": 8,
     "status": "ok",
     "timestamp": 1671563641830,
     "user": {
      "displayName": "Savaş Demiradalı",
      "userId": "09028353773699495497"
     },
     "user_tz": -180
    },
    "id": "n-O7jCbBHpxo",
    "outputId": "62b05542-c62a-4cf0-ee95-3ae914f16cff"
   },
   "outputs": [
    {
     "name": "stdout",
     "output_type": "stream",
     "text": [
      "(37843, 6) (9461, 6)\n"
     ]
    }
   ],
   "source": [
    "from sklearn.preprocessing import OneHotEncoder\n",
    "\n",
    "ohe = OneHotEncoder()\n",
    "y_train_ohe = ohe.fit_transform(y_train.reshape(-1, 1)).toarray()\n",
    "y_test_ohe = ohe.transform(y_test.reshape(-1, 1)).toarray()\n",
    "\n",
    "print(y_train_ohe.shape, y_test_ohe.shape)"
   ]
  },
  {
   "cell_type": "markdown",
   "metadata": {
    "id": "6uhZ7cs6EsSB"
   },
   "source": [
    "# Create model"
   ]
  },
  {
   "cell_type": "code",
   "execution_count": 17,
   "metadata": {
    "executionInfo": {
     "elapsed": 7,
     "status": "ok",
     "timestamp": 1671563641832,
     "user": {
      "displayName": "Savaş Demiradalı",
      "userId": "09028353773699495497"
     },
     "user_tz": -180
    },
    "id": "WIY1EiEzErL7"
   },
   "outputs": [],
   "source": [
    "# Build lstm model\n",
    "def build_model(n_units=32, drop_rate=0):\n",
    "    inputs = keras.Input(shape=(None,), dtype=\"int32\")\n",
    "    x = layers.Embedding(VOCAB_SIZE, 32)(inputs)\n",
    "    x = layers.SpatialDropout1D(0.2)(x)\n",
    "\n",
    "    # Add 2 bidirectional LSTMs\n",
    "    x = layers.Bidirectional(layers.LSTM(n_units, dropout=drop_rate, return_sequences=True))(x)\n",
    "    x = layers.Bidirectional(layers.LSTM(n_units, dropout=drop_rate))(x)\n",
    "\n",
    "    x = layers.Dense(48, activation=\"relu\")(x)\n",
    "    outputs = layers.Dense(6, activation=\"softmax\")(x)\n",
    "\n",
    "    model = keras.Model(inputs, outputs)\n",
    "    \n",
    "    return model\n",
    "\n"
   ]
  },
  {
   "cell_type": "code",
   "execution_count": 18,
   "metadata": {
    "colab": {
     "base_uri": "https://localhost:8080/"
    },
    "executionInfo": {
     "elapsed": 5159,
     "status": "ok",
     "timestamp": 1671563646984,
     "user": {
      "displayName": "Savaş Demiradalı",
      "userId": "09028353773699495497"
     },
     "user_tz": -180
    },
    "id": "DF-u80HjwKoQ",
    "outputId": "6cb611a4-95cc-461b-cd45-1bc80517cf71"
   },
   "outputs": [
    {
     "name": "stdout",
     "output_type": "stream",
     "text": [
      "Model: \"model\"\n",
      "_________________________________________________________________\n",
      " Layer (type)                Output Shape              Param #   \n",
      "=================================================================\n",
      " input_1 (InputLayer)        [(None, None)]            0         \n",
      "                                                                 \n",
      " embedding (Embedding)       (None, None, 32)          1600000   \n",
      "                                                                 \n",
      " spatial_dropout1d (SpatialD  (None, None, 32)         0         \n",
      " ropout1D)                                                       \n",
      "                                                                 \n",
      " bidirectional (Bidirectiona  (None, None, 96)         31104     \n",
      " l)                                                              \n",
      "                                                                 \n",
      " bidirectional_1 (Bidirectio  (None, 96)               55680     \n",
      " nal)                                                            \n",
      "                                                                 \n",
      " dense (Dense)               (None, 48)                4656      \n",
      "                                                                 \n",
      " dense_1 (Dense)             (None, 6)                 294       \n",
      "                                                                 \n",
      "=================================================================\n",
      "Total params: 1,691,734\n",
      "Trainable params: 1,691,734\n",
      "Non-trainable params: 0\n",
      "_________________________________________________________________\n"
     ]
    }
   ],
   "source": [
    "model = build_model(n_units=48, drop_rate=0.2)\n",
    "model.summary()"
   ]
  },
  {
   "cell_type": "code",
   "execution_count": 19,
   "metadata": {
    "executionInfo": {
     "elapsed": 10,
     "status": "ok",
     "timestamp": 1671563646985,
     "user": {
      "displayName": "Savaş Demiradalı",
      "userId": "09028353773699495497"
     },
     "user_tz": -180
    },
    "id": "Hwab3hFPb0W5"
   },
   "outputs": [],
   "source": [
    "model.compile(optimizer=tf.optimizers.RMSprop(1e-3),\n",
    "              loss=\"categorical_crossentropy\",\n",
    "              metrics=[\"accuracy\"])"
   ]
  },
  {
   "cell_type": "markdown",
   "metadata": {
    "id": "4nDvjsGpTbHs"
   },
   "source": [
    "# Train Model"
   ]
  },
  {
   "cell_type": "code",
   "execution_count": 20,
   "metadata": {
    "executionInfo": {
     "elapsed": 11,
     "status": "ok",
     "timestamp": 1671563646986,
     "user": {
      "displayName": "Savaş Demiradalı",
      "userId": "09028353773699495497"
     },
     "user_tz": -180
    },
    "id": "9oS2cf5nkoZo"
   },
   "outputs": [],
   "source": [
    "batch_size = 64\n",
    "epochs = 8"
   ]
  },
  {
   "cell_type": "code",
   "execution_count": 21,
   "metadata": {
    "executionInfo": {
     "elapsed": 11,
     "status": "ok",
     "timestamp": 1671563646987,
     "user": {
      "displayName": "Savaş Demiradalı",
      "userId": "09028353773699495497"
     },
     "user_tz": -180
    },
    "id": "ck2jd8JcH96W"
   },
   "outputs": [],
   "source": [
    "# Save model checkpoints\n",
    "checkpoint_filepath = \"./training_checkpoints/checkpoint\"\n",
    "\n",
    "checkpoint_cb = tf.keras.callbacks.ModelCheckpoint(\n",
    "    filepath=checkpoint_filepath,\n",
    "    save_weights_only=True,\n",
    "    monitor=\"val_accuracy\",\n",
    "    save_best_only=True\n",
    ")"
   ]
  },
  {
   "cell_type": "code",
   "execution_count": 22,
   "metadata": {
    "colab": {
     "base_uri": "https://localhost:8080/"
    },
    "executionInfo": {
     "elapsed": 193607,
     "status": "ok",
     "timestamp": 1671563840583,
     "user": {
      "displayName": "Savaş Demiradalı",
      "userId": "09028353773699495497"
     },
     "user_tz": -180
    },
    "id": "6oADd1d4F5Yk",
    "outputId": "91e9bf55-7855-44a4-8b00-865d1b6e9b19"
   },
   "outputs": [
    {
     "name": "stdout",
     "output_type": "stream",
     "text": [
      "Epoch 1/8\n",
      "592/592 [==============================] - 41s 49ms/step - loss: 0.7275 - accuracy: 0.6793 - val_loss: 0.4886 - val_accuracy: 0.7901\n",
      "Epoch 2/8\n",
      "592/592 [==============================] - 21s 36ms/step - loss: 0.4454 - accuracy: 0.8094 - val_loss: 0.4514 - val_accuracy: 0.8146\n",
      "Epoch 3/8\n",
      "592/592 [==============================] - 23s 39ms/step - loss: 0.3983 - accuracy: 0.8355 - val_loss: 0.4113 - val_accuracy: 0.8300\n",
      "Epoch 4/8\n",
      "592/592 [==============================] - 21s 36ms/step - loss: 0.3632 - accuracy: 0.8546 - val_loss: 0.4018 - val_accuracy: 0.8378\n",
      "Epoch 5/8\n",
      "592/592 [==============================] - 22s 37ms/step - loss: 0.3415 - accuracy: 0.8672 - val_loss: 0.4366 - val_accuracy: 0.8223\n",
      "Epoch 6/8\n",
      "592/592 [==============================] - 22s 38ms/step - loss: 0.3196 - accuracy: 0.8767 - val_loss: 0.4228 - val_accuracy: 0.8347\n",
      "Epoch 7/8\n",
      "592/592 [==============================] - 21s 36ms/step - loss: 0.3089 - accuracy: 0.8807 - val_loss: 0.4041 - val_accuracy: 0.8342\n",
      "Epoch 8/8\n",
      "592/592 [==============================] - 21s 36ms/step - loss: 0.2982 - accuracy: 0.8866 - val_loss: 0.4253 - val_accuracy: 0.8280\n"
     ]
    }
   ],
   "source": [
    "hist = model.fit(X_train, y_train_ohe, batch_size=batch_size, epochs=epochs,\n",
    "                 validation_data=(X_test, y_test_ohe),\n",
    "                 callbacks=[checkpoint_cb])"
   ]
  },
  {
   "cell_type": "markdown",
   "metadata": {
    "id": "SHlHPVimdqRa"
   },
   "source": [
    "# Evaluate model"
   ]
  },
  {
   "cell_type": "code",
   "execution_count": 23,
   "metadata": {
    "colab": {
     "base_uri": "https://localhost:8080/",
     "height": 300
    },
    "executionInfo": {
     "elapsed": 35,
     "status": "ok",
     "timestamp": 1671563840586,
     "user": {
      "displayName": "Savaş Demiradalı",
      "userId": "09028353773699495497"
     },
     "user_tz": -180
    },
    "id": "JSroO8yudYyL",
    "outputId": "ba9df49f-2934-4dc3-8705-dcfdba656616"
   },
   "outputs": [
    {
     "data": {
      "text/html": [
       "\n",
       "  <div id=\"df-1570d495-4124-4ca7-b7cb-19da2260df3e\">\n",
       "    <div class=\"colab-df-container\">\n",
       "      <div>\n",
       "<style scoped>\n",
       "    .dataframe tbody tr th:only-of-type {\n",
       "        vertical-align: middle;\n",
       "    }\n",
       "\n",
       "    .dataframe tbody tr th {\n",
       "        vertical-align: top;\n",
       "    }\n",
       "\n",
       "    .dataframe thead th {\n",
       "        text-align: right;\n",
       "    }\n",
       "</style>\n",
       "<table border=\"1\" class=\"dataframe\">\n",
       "  <thead>\n",
       "    <tr style=\"text-align: right;\">\n",
       "      <th></th>\n",
       "      <th>loss</th>\n",
       "      <th>accuracy</th>\n",
       "      <th>val_loss</th>\n",
       "      <th>val_accuracy</th>\n",
       "    </tr>\n",
       "  </thead>\n",
       "  <tbody>\n",
       "    <tr>\n",
       "      <th>0</th>\n",
       "      <td>0.727539</td>\n",
       "      <td>0.679333</td>\n",
       "      <td>0.488628</td>\n",
       "      <td>0.790086</td>\n",
       "    </tr>\n",
       "    <tr>\n",
       "      <th>1</th>\n",
       "      <td>0.445445</td>\n",
       "      <td>0.809450</td>\n",
       "      <td>0.451371</td>\n",
       "      <td>0.814607</td>\n",
       "    </tr>\n",
       "    <tr>\n",
       "      <th>2</th>\n",
       "      <td>0.398329</td>\n",
       "      <td>0.835505</td>\n",
       "      <td>0.411267</td>\n",
       "      <td>0.830039</td>\n",
       "    </tr>\n",
       "    <tr>\n",
       "      <th>3</th>\n",
       "      <td>0.363228</td>\n",
       "      <td>0.854610</td>\n",
       "      <td>0.401762</td>\n",
       "      <td>0.837755</td>\n",
       "    </tr>\n",
       "    <tr>\n",
       "      <th>4</th>\n",
       "      <td>0.341482</td>\n",
       "      <td>0.867215</td>\n",
       "      <td>0.436570</td>\n",
       "      <td>0.822323</td>\n",
       "    </tr>\n",
       "    <tr>\n",
       "      <th>5</th>\n",
       "      <td>0.319644</td>\n",
       "      <td>0.876675</td>\n",
       "      <td>0.422757</td>\n",
       "      <td>0.834690</td>\n",
       "    </tr>\n",
       "    <tr>\n",
       "      <th>6</th>\n",
       "      <td>0.308892</td>\n",
       "      <td>0.880718</td>\n",
       "      <td>0.404145</td>\n",
       "      <td>0.834161</td>\n",
       "    </tr>\n",
       "    <tr>\n",
       "      <th>7</th>\n",
       "      <td>0.298193</td>\n",
       "      <td>0.886637</td>\n",
       "      <td>0.425325</td>\n",
       "      <td>0.828031</td>\n",
       "    </tr>\n",
       "  </tbody>\n",
       "</table>\n",
       "</div>\n",
       "      <button class=\"colab-df-convert\" onclick=\"convertToInteractive('df-1570d495-4124-4ca7-b7cb-19da2260df3e')\"\n",
       "              title=\"Convert this dataframe to an interactive table.\"\n",
       "              style=\"display:none;\">\n",
       "        \n",
       "  <svg xmlns=\"http://www.w3.org/2000/svg\" height=\"24px\"viewBox=\"0 0 24 24\"\n",
       "       width=\"24px\">\n",
       "    <path d=\"M0 0h24v24H0V0z\" fill=\"none\"/>\n",
       "    <path d=\"M18.56 5.44l.94 2.06.94-2.06 2.06-.94-2.06-.94-.94-2.06-.94 2.06-2.06.94zm-11 1L8.5 8.5l.94-2.06 2.06-.94-2.06-.94L8.5 2.5l-.94 2.06-2.06.94zm10 10l.94 2.06.94-2.06 2.06-.94-2.06-.94-.94-2.06-.94 2.06-2.06.94z\"/><path d=\"M17.41 7.96l-1.37-1.37c-.4-.4-.92-.59-1.43-.59-.52 0-1.04.2-1.43.59L10.3 9.45l-7.72 7.72c-.78.78-.78 2.05 0 2.83L4 21.41c.39.39.9.59 1.41.59.51 0 1.02-.2 1.41-.59l7.78-7.78 2.81-2.81c.8-.78.8-2.07 0-2.86zM5.41 20L4 18.59l7.72-7.72 1.47 1.35L5.41 20z\"/>\n",
       "  </svg>\n",
       "      </button>\n",
       "      \n",
       "  <style>\n",
       "    .colab-df-container {\n",
       "      display:flex;\n",
       "      flex-wrap:wrap;\n",
       "      gap: 12px;\n",
       "    }\n",
       "\n",
       "    .colab-df-convert {\n",
       "      background-color: #E8F0FE;\n",
       "      border: none;\n",
       "      border-radius: 50%;\n",
       "      cursor: pointer;\n",
       "      display: none;\n",
       "      fill: #1967D2;\n",
       "      height: 32px;\n",
       "      padding: 0 0 0 0;\n",
       "      width: 32px;\n",
       "    }\n",
       "\n",
       "    .colab-df-convert:hover {\n",
       "      background-color: #E2EBFA;\n",
       "      box-shadow: 0px 1px 2px rgba(60, 64, 67, 0.3), 0px 1px 3px 1px rgba(60, 64, 67, 0.15);\n",
       "      fill: #174EA6;\n",
       "    }\n",
       "\n",
       "    [theme=dark] .colab-df-convert {\n",
       "      background-color: #3B4455;\n",
       "      fill: #D2E3FC;\n",
       "    }\n",
       "\n",
       "    [theme=dark] .colab-df-convert:hover {\n",
       "      background-color: #434B5C;\n",
       "      box-shadow: 0px 1px 3px 1px rgba(0, 0, 0, 0.15);\n",
       "      filter: drop-shadow(0px 1px 2px rgba(0, 0, 0, 0.3));\n",
       "      fill: #FFFFFF;\n",
       "    }\n",
       "  </style>\n",
       "\n",
       "      <script>\n",
       "        const buttonEl =\n",
       "          document.querySelector('#df-1570d495-4124-4ca7-b7cb-19da2260df3e button.colab-df-convert');\n",
       "        buttonEl.style.display =\n",
       "          google.colab.kernel.accessAllowed ? 'block' : 'none';\n",
       "\n",
       "        async function convertToInteractive(key) {\n",
       "          const element = document.querySelector('#df-1570d495-4124-4ca7-b7cb-19da2260df3e');\n",
       "          const dataTable =\n",
       "            await google.colab.kernel.invokeFunction('convertToInteractive',\n",
       "                                                     [key], {});\n",
       "          if (!dataTable) return;\n",
       "\n",
       "          const docLinkHtml = 'Like what you see? Visit the ' +\n",
       "            '<a target=\"_blank\" href=https://colab.research.google.com/notebooks/data_table.ipynb>data table notebook</a>'\n",
       "            + ' to learn more about interactive tables.';\n",
       "          element.innerHTML = '';\n",
       "          dataTable['output_type'] = 'display_data';\n",
       "          await google.colab.output.renderOutput(dataTable, element);\n",
       "          const docLink = document.createElement('div');\n",
       "          docLink.innerHTML = docLinkHtml;\n",
       "          element.appendChild(docLink);\n",
       "        }\n",
       "      </script>\n",
       "    </div>\n",
       "  </div>\n",
       "  "
      ],
      "text/plain": [
       "       loss  accuracy  val_loss  val_accuracy\n",
       "0  0.727539  0.679333  0.488628      0.790086\n",
       "1  0.445445  0.809450  0.451371      0.814607\n",
       "2  0.398329  0.835505  0.411267      0.830039\n",
       "3  0.363228  0.854610  0.401762      0.837755\n",
       "4  0.341482  0.867215  0.436570      0.822323\n",
       "5  0.319644  0.876675  0.422757      0.834690\n",
       "6  0.308892  0.880718  0.404145      0.834161\n",
       "7  0.298193  0.886637  0.425325      0.828031"
      ]
     },
     "execution_count": 23,
     "metadata": {},
     "output_type": "execute_result"
    }
   ],
   "source": [
    "loss_df = pd.DataFrame(hist.history)\n",
    "loss_df"
   ]
  },
  {
   "cell_type": "code",
   "execution_count": 25,
   "metadata": {
    "colab": {
     "base_uri": "https://localhost:8080/",
     "height": 361
    },
    "executionInfo": {
     "elapsed": 2232,
     "status": "ok",
     "timestamp": 1671563868216,
     "user": {
      "displayName": "Savaş Demiradalı",
      "userId": "09028353773699495497"
     },
     "user_tz": -180
    },
    "id": "-uf0hnCzF-gQ",
    "outputId": "b388cb0f-c278-4122-ff31-71b48de7bb9d"
   },
   "outputs": [
    {
     "data": {
      "text/plain": [
       "<matplotlib.legend.Legend at 0x7f82ea0c9820>"
      ]
     },
     "execution_count": 25,
     "metadata": {},
     "output_type": "execute_result"
    },
    {
     "data": {
      "image/png": "[encoded data removed]",
      "text/plain": [
       "<Figure size 1152x360 with 2 Axes>"
      ]
     },
     "metadata": {
      "needs_background": "light"
     },
     "output_type": "display_data"
    }
   ],
   "source": [
    "plt.figure(figsize=(16, 5))\n",
    "plt.subplot(1, 2, 1)\n",
    "plt.plot(loss_df[\"loss\"], label=\"loss\")\n",
    "plt.plot(loss_df[\"val_loss\"], label=\"val_loss\")\n",
    "plt.xlabel(\"Epochs\")\n",
    "plt.ylabel(\"Loss\")\n",
    "plt.legend()\n",
    "\n",
    "plt.subplot(1, 2, 2)\n",
    "plt.plot(loss_df[\"accuracy\"], label=\"acc\")\n",
    "plt.plot(loss_df[\"val_accuracy\"], label=\"val_acc\")\n",
    "plt.xlabel(\"Epochs\")\n",
    "plt.ylabel(\"Accuracy\")\n",
    "plt.legend()"
   ]
  },
  {
   "cell_type": "code",
   "execution_count": 26,
   "metadata": {
    "colab": {
     "base_uri": "https://localhost:8080/"
    },
    "executionInfo": {
     "elapsed": 5563,
     "status": "ok",
     "timestamp": 1671563875957,
     "user": {
      "displayName": "Savaş Demiradalı",
      "userId": "09028353773699495497"
     },
     "user_tz": -180
    },
    "id": "3Uc1uPPoFNrl",
    "outputId": "5920e125-91ec-4417-f58d-1dee4e6061e3"
   },
   "outputs": [
    {
     "name": "stdout",
     "output_type": "stream",
     "text": [
      "296/296 [==============================] - 5s 18ms/step - loss: 0.4018 - accuracy: 0.8378\n",
      "[0.40176236629486084, 0.8377549648284912]\n"
     ]
    }
   ],
   "source": [
    "# Restore weights\n",
    "model.load_weights(checkpoint_filepath)\n",
    "scores = model.evaluate(X_test, y_test_ohe)\n",
    "\n",
    "print(scores)"
   ]
  },
  {
   "cell_type": "code",
   "execution_count": 27,
   "metadata": {
    "executionInfo": {
     "elapsed": 229,
     "status": "ok",
     "timestamp": 1671563879168,
     "user": {
      "displayName": "Savaş Demiradalı",
      "userId": "09028353773699495497"
     },
     "user_tz": -180
    },
    "id": "0mZ0bO4PHz-X"
   },
   "outputs": [],
   "source": [
    "# Save model\n",
    "model.save(\"saved_models/cyberbullying_lstm.h5\")"
   ]
  },
  {
   "cell_type": "markdown",
   "metadata": {
    "id": "oScFFJZO5lR8"
   },
   "source": [
    "# Predictions"
   ]
  },
  {
   "cell_type": "code",
   "execution_count": 28,
   "metadata": {
    "executionInfo": {
     "elapsed": 1477,
     "status": "ok",
     "timestamp": 1671563884884,
     "user": {
      "displayName": "Savaş Demiradalı",
      "userId": "09028353773699495497"
     },
     "user_tz": -180
    },
    "id": "ckRRRIk2IMFo"
   },
   "outputs": [],
   "source": [
    "# Load model\n",
    "loaded_model = load_model(\"saved_models/cyberbullying_lstm.h5\")"
   ]
  },
  {
   "cell_type": "code",
   "execution_count": 29,
   "metadata": {
    "colab": {
     "base_uri": "https://localhost:8080/"
    },
    "executionInfo": {
     "elapsed": 6413,
     "status": "ok",
     "timestamp": 1671563891290,
     "user": {
      "displayName": "Savaş Demiradalı",
      "userId": "09028353773699495497"
     },
     "user_tz": -180
    },
    "id": "Mp8Idklo5hhb",
    "outputId": "e7e0aa58-5864-4633-f3b6-194e89d99a19"
   },
   "outputs": [
    {
     "name": "stdout",
     "output_type": "stream",
     "text": [
      "296/296 [==============================] - 5s 14ms/step\n"
     ]
    },
    {
     "data": {
      "text/plain": [
       "array([1, 1, 3, ..., 3, 0, 2])"
      ]
     },
     "execution_count": 29,
     "metadata": {},
     "output_type": "execute_result"
    }
   ],
   "source": [
    "y_pred = loaded_model.predict(X_test)\n",
    "predictions = np.argmax(y_pred, axis=1)\n",
    "predictions"
   ]
  },
  {
   "cell_type": "code",
   "execution_count": 30,
   "metadata": {
    "colab": {
     "base_uri": "https://localhost:8080/"
    },
    "executionInfo": {
     "elapsed": 33,
     "status": "ok",
     "timestamp": 1671563891291,
     "user": {
      "displayName": "Savaş Demiradalı",
      "userId": "09028353773699495497"
     },
     "user_tz": -180
    },
    "id": "1Mk30STtkuu3",
    "outputId": "5266ba92-e9bb-4e3f-88e2-e5c2f3b353ce"
   },
   "outputs": [
    {
     "name": "stdout",
     "output_type": "stream",
     "text": [
      "[[ 835   58   61  578   53   14]\n",
      " [ 112 1315    5  107    1    8]\n",
      " [  31    4 1540   16    3    5]\n",
      " [ 291   87    1 1121   20   10]\n",
      " [  13    2    2   16 1510    4]\n",
      " [   6    2    5   18    2 1605]]\n"
     ]
    }
   ],
   "source": [
    "cm = confusion_matrix(y_test, predictions)\n",
    "\n",
    "print(cm)"
   ]
  },
  {
   "cell_type": "code",
   "execution_count": 31,
   "metadata": {
    "colab": {
     "base_uri": "https://localhost:8080/"
    },
    "executionInfo": {
     "elapsed": 32,
     "status": "ok",
     "timestamp": 1671563891293,
     "user": {
      "displayName": "Savaş Demiradalı",
      "userId": "09028353773699495497"
     },
     "user_tz": -180
    },
    "id": "6fl_0HO6ZiCL",
    "outputId": "c0c4d3a8-e2c7-4680-b302-5b020b8a079e"
   },
   "outputs": [
    {
     "name": "stdout",
     "output_type": "stream",
     "text": [
      "              precision    recall  f1-score   support\n",
      "\n",
      "           0       0.65      0.52      0.58      1599\n",
      "           1       0.90      0.85      0.87      1548\n",
      "           2       0.95      0.96      0.96      1599\n",
      "           3       0.60      0.73      0.66      1530\n",
      "           4       0.95      0.98      0.96      1547\n",
      "           5       0.98      0.98      0.98      1638\n",
      "\n",
      "    accuracy                           0.84      9461\n",
      "   macro avg       0.84      0.84      0.84      9461\n",
      "weighted avg       0.84      0.84      0.84      9461\n",
      "\n"
     ]
    }
   ],
   "source": [
    "print(classification_report(y_test, predictions))"
   ]
  },
  {
   "cell_type": "code",
   "execution_count": 31,
   "metadata": {
    "executionInfo": {
     "elapsed": 29,
     "status": "ok",
     "timestamp": 1671563891294,
     "user": {
      "displayName": "Savaş Demiradalı",
      "userId": "09028353773699495497"
     },
     "user_tz": -180
    },
    "id": "2kiyI-81KUjn"
   },
   "outputs": [],
   "source": []
  }
 ],
 "metadata": {
  "accelerator": "GPU",
  "colab": {
   "authorship_tag": "ABX9TyP2eqY84lIMcasbDc8C8Cs7",
   "provenance": [],
   "toc_visible": true
  },
  "gpuClass": "standard",
  "kernelspec": {
   "display_name": "Python 3 (ipykernel)",
   "language": "python",
   "name": "python3"
  },
  "language_info": {
   "codemirror_mode": {
    "name": "ipython",
    "version": 3
   },
   "file_extension": ".py",
   "mimetype": "text/x-python",
   "name": "python",
   "nbconvert_exporter": "python",
   "pygments_lexer": "ipython3",
   "version": "3.9.12"
  }
 },
 "nbformat": 4,
 "nbformat_minor": 1
}
